{
 "cells": [
  {
   "cell_type": "markdown",
   "id": "2a02ffa2",
   "metadata": {},
   "source": [
    "# Dictionary"
   ]
  },
  {
   "cell_type": "markdown",
   "id": "d3e9e93d",
   "metadata": {},
   "source": [
    "Dictionaries are used to store data as key : value pairs\n",
    "1. Dictionaries are ordered, changeable and do not allow duplicates.\n",
    "2. Dictionaries are written within { }.\n",
    "3. These items can be referred using key names.\n",
    "4. We can add/remove items from the dictionary(i.e..changeable).\n",
    "5. Dictionaries can't have 2 items with the same key(i.e..duplicates are not allowed)."
   ]
  },
  {
   "cell_type": "code",
   "execution_count": 1,
   "id": "7eb88c3c",
   "metadata": {},
   "outputs": [
    {
     "name": "stdout",
     "output_type": "stream",
     "text": [
      "{}\n",
      "{}\n"
     ]
    }
   ],
   "source": [
    "emptyDict = {}\n",
    "print(emptyDict)\n",
    "# another way is writing dict()\n",
    "eD = dict()\n",
    "print(eD)"
   ]
  },
  {
   "cell_type": "code",
   "execution_count": 2,
   "id": "5cd313a9",
   "metadata": {},
   "outputs": [
    {
     "data": {
      "text/plain": [
       "{'Sravya': 45, 'Pawan': 54, 'Sai': 65, 'Charan': 56, 'Ram': 34}"
      ]
     },
     "execution_count": 2,
     "metadata": {},
     "output_type": "execute_result"
    }
   ],
   "source": [
    "# in sets we seperate each and every elements by \" , \"\n",
    "# in dictionary element is (key:value) those elements are seerated by \" , \"\n",
    "# dict_name={key1:value1,key2:value2,....keyn:valuen}\n",
    "marksDict = {'Sravya':45,'Pawan':54,'Sai':65,'Charan':56,'Ram':34}\n",
    "marksDict"
   ]
  },
  {
   "cell_type": "markdown",
   "id": "b43feb76",
   "metadata": {},
   "source": [
    "### How to access values in dictionary?"
   ]
  },
  {
   "cell_type": "code",
   "execution_count": 3,
   "id": "deab5faa",
   "metadata": {},
   "outputs": [
    {
     "data": {
      "text/plain": [
       "45"
      ]
     },
     "execution_count": 3,
     "metadata": {},
     "output_type": "execute_result"
    }
   ],
   "source": [
    "# we can access using key value\n",
    "# dict_name[key]\n",
    "marksDict['Sravya'] #to get Sravya's marks"
   ]
  },
  {
   "cell_type": "code",
   "execution_count": 4,
   "id": "24640440",
   "metadata": {},
   "outputs": [
    {
     "name": "stdout",
     "output_type": "stream",
     "text": [
      "45\n"
     ]
    }
   ],
   "source": [
    "sravyaMarks = marksDict.get('Sravya')\n",
    "print(sravyaMarks)"
   ]
  },
  {
   "cell_type": "code",
   "execution_count": 5,
   "id": "4b2d7dff",
   "metadata": {},
   "outputs": [
    {
     "data": {
      "text/plain": [
       "dict_keys(['Sravya', 'Pawan', 'Sai', 'Charan', 'Ram'])"
      ]
     },
     "execution_count": 5,
     "metadata": {},
     "output_type": "execute_result"
    }
   ],
   "source": [
    "# The keys() method will return a list of all the keys in the dictionary.\n",
    "marksDict.keys()"
   ]
  },
  {
   "cell_type": "code",
   "execution_count": 6,
   "id": "43c9834b",
   "metadata": {},
   "outputs": [
    {
     "data": {
      "text/plain": [
       "dict_values([45, 54, 65, 56, 34])"
      ]
     },
     "execution_count": 6,
     "metadata": {},
     "output_type": "execute_result"
    }
   ],
   "source": [
    "# The values() method will return a list of all the values in the dictionary.\n",
    "marksDict.values()"
   ]
  },
  {
   "cell_type": "code",
   "execution_count": 7,
   "id": "084ed9f0",
   "metadata": {},
   "outputs": [
    {
     "data": {
      "text/plain": [
       "dict_items([('Sravya', 45), ('Pawan', 54), ('Sai', 65), ('Charan', 56), ('Ram', 34)])"
      ]
     },
     "execution_count": 7,
     "metadata": {},
     "output_type": "execute_result"
    }
   ],
   "source": [
    "# The items() method will return each item in a dictionary, as tuples in a list.\n",
    "marksDict.items()"
   ]
  },
  {
   "cell_type": "code",
   "execution_count": 8,
   "id": "fa6af27b",
   "metadata": {},
   "outputs": [
    {
     "name": "stdout",
     "output_type": "stream",
     "text": [
      "Pawan\n",
      "Yes Pawan wrote the exam!\n"
     ]
    }
   ],
   "source": [
    "# To check if a specified key is present in a dictionary we use the 'in' keyword:\n",
    "studentName = input()\n",
    "if studentName in marksDict:\n",
    "    print('Yes',studentName,'wrote the exam!')\n",
    "else:\n",
    "    print('No',studentName,'was absent during exam!')"
   ]
  },
  {
   "cell_type": "markdown",
   "id": "1c2ee79f",
   "metadata": {},
   "source": [
    "### How to change or update items?"
   ]
  },
  {
   "cell_type": "code",
   "execution_count": 9,
   "id": "6c8c7cfd",
   "metadata": {},
   "outputs": [
    {
     "data": {
      "text/plain": [
       "{'Sravya': 45, 'Pawan': 54, 'Sai': 65, 'Charan': 56, 'Ram': 76}"
      ]
     },
     "execution_count": 9,
     "metadata": {},
     "output_type": "execute_result"
    }
   ],
   "source": [
    "# We can change the value of specific key by referring it's key\n",
    "marksDict['Ram'] = 76\n",
    "marksDict"
   ]
  },
  {
   "cell_type": "code",
   "execution_count": 10,
   "id": "4ddb5382",
   "metadata": {},
   "outputs": [
    {
     "data": {
      "text/plain": [
       "{'Sravya': 45, 'Pawan': 0, 'Sai': 65, 'Charan': 56, 'Ram': 76}"
      ]
     },
     "execution_count": 10,
     "metadata": {},
     "output_type": "execute_result"
    }
   ],
   "source": [
    "# The update() method will update the dictionary with the items from the given argument.\n",
    "# The argument must be a dictionary, or an iterable object with key:value pairs.\n",
    "marksDict.update({'Pawan':0})\n",
    "marksDict"
   ]
  },
  {
   "cell_type": "markdown",
   "id": "7a71434e",
   "metadata": {},
   "source": [
    "### How to add items?"
   ]
  },
  {
   "cell_type": "code",
   "execution_count": 11,
   "id": "41d20b76",
   "metadata": {},
   "outputs": [
    {
     "data": {
      "text/plain": [
       "{'Sravya': 45, 'Pawan': 0, 'Sai': 65, 'Charan': 56, 'Ram': 76, 'Sri': 77}"
      ]
     },
     "execution_count": 11,
     "metadata": {},
     "output_type": "execute_result"
    }
   ],
   "source": [
    "marksDict['Sri'] = 77\n",
    "marksDict"
   ]
  },
  {
   "cell_type": "code",
   "execution_count": 12,
   "id": "542e00d6",
   "metadata": {},
   "outputs": [
    {
     "data": {
      "text/plain": [
       "{'Sravya': 45,\n",
       " 'Pawan': 0,\n",
       " 'Sai': 65,\n",
       " 'Charan': 56,\n",
       " 'Ram': 76,\n",
       " 'Sri': 77,\n",
       " 'Saranya': 98}"
      ]
     },
     "execution_count": 12,
     "metadata": {},
     "output_type": "execute_result"
    }
   ],
   "source": [
    "# we can also use update method if the key is not there then it'll be added to the dictionary\n",
    "marksDict.update({'Saranya':98})\n",
    "marksDict"
   ]
  },
  {
   "cell_type": "markdown",
   "id": "ac2e5089",
   "metadata": {},
   "source": [
    "### How to remove items?"
   ]
  },
  {
   "cell_type": "code",
   "execution_count": 13,
   "id": "07dff649",
   "metadata": {},
   "outputs": [
    {
     "data": {
      "text/plain": [
       "{'Sravya': 45, 'Sai': 65, 'Charan': 56, 'Ram': 76, 'Sri': 77, 'Saranya': 98}"
      ]
     },
     "execution_count": 13,
     "metadata": {},
     "output_type": "execute_result"
    }
   ],
   "source": [
    "# The pop() method removes the item with the specified key name\n",
    "marksDict.pop('Pawan')\n",
    "marksDict"
   ]
  },
  {
   "cell_type": "code",
   "execution_count": 14,
   "id": "ebeb6844",
   "metadata": {},
   "outputs": [
    {
     "data": {
      "text/plain": [
       "{'Sravya': 45, 'Sai': 65, 'Charan': 56, 'Ram': 76, 'Sri': 77}"
      ]
     },
     "execution_count": 14,
     "metadata": {},
     "output_type": "execute_result"
    }
   ],
   "source": [
    "# The popitem() method removes the last inserted item\n",
    "marksDict.popitem()\n",
    "marksDict"
   ]
  },
  {
   "cell_type": "code",
   "execution_count": 15,
   "id": "3339670b",
   "metadata": {},
   "outputs": [
    {
     "data": {
      "text/plain": [
       "{'Sravya': 45, 'Sai': 65, 'Charan': 56, 'Ram': 76}"
      ]
     },
     "execution_count": 15,
     "metadata": {},
     "output_type": "execute_result"
    }
   ],
   "source": [
    "# The 'del' keyword removes the item with the specified key name\n",
    "del marksDict['Sri']\n",
    "marksDict"
   ]
  },
  {
   "cell_type": "code",
   "execution_count": 16,
   "id": "febacf34",
   "metadata": {},
   "outputs": [],
   "source": [
    "# The del keyword can also delete the dictionary completely\n",
    "del marksDict"
   ]
  },
  {
   "cell_type": "code",
   "execution_count": 17,
   "id": "d2ceb1fe",
   "metadata": {},
   "outputs": [
    {
     "ename": "NameError",
     "evalue": "name 'marksDict' is not defined",
     "output_type": "error",
     "traceback": [
      "\u001b[1;31m---------------------------------------------------------------------------\u001b[0m",
      "\u001b[1;31mNameError\u001b[0m                                 Traceback (most recent call last)",
      "Input \u001b[1;32mIn [17]\u001b[0m, in \u001b[0;36m<cell line: 1>\u001b[1;34m()\u001b[0m\n\u001b[1;32m----> 1\u001b[0m \u001b[38;5;28mlen\u001b[39m(\u001b[43mmarksDict\u001b[49m)\n",
      "\u001b[1;31mNameError\u001b[0m: name 'marksDict' is not defined"
     ]
    }
   ],
   "source": [
    "len(marksDict)"
   ]
  },
  {
   "cell_type": "markdown",
   "id": "a748ca45",
   "metadata": {},
   "source": [
    "As it was deleted we are getting error :|"
   ]
  },
  {
   "cell_type": "code",
   "execution_count": 18,
   "id": "1a2d18c4",
   "metadata": {},
   "outputs": [
    {
     "data": {
      "text/plain": [
       "5"
      ]
     },
     "execution_count": 18,
     "metadata": {},
     "output_type": "execute_result"
    }
   ],
   "source": [
    "# again creating a dict\n",
    "marksDict = {'Sravya':45,'Pawan':54,'Sai':65,'Charan':56,'Ram':34}\n",
    "len(marksDict)"
   ]
  },
  {
   "cell_type": "code",
   "execution_count": 19,
   "id": "77b0cac2",
   "metadata": {},
   "outputs": [],
   "source": [
    "# Clear method emptifies the whole dictionary\n",
    "marksDict.clear()"
   ]
  },
  {
   "cell_type": "markdown",
   "id": "64a0dcb9",
   "metadata": {},
   "source": [
    "As marksDict was cleared it has no items in it ;-) , so the len will be 0"
   ]
  },
  {
   "cell_type": "code",
   "execution_count": 20,
   "id": "1ae08877",
   "metadata": {},
   "outputs": [
    {
     "data": {
      "text/plain": [
       "0"
      ]
     },
     "execution_count": 20,
     "metadata": {},
     "output_type": "execute_result"
    }
   ],
   "source": [
    "len(marksDict)"
   ]
  },
  {
   "cell_type": "markdown",
   "id": "79dad5d5",
   "metadata": {},
   "source": [
    "### Looping dictionary"
   ]
  },
  {
   "cell_type": "code",
   "execution_count": 21,
   "id": "0a124aff",
   "metadata": {},
   "outputs": [
    {
     "name": "stdout",
     "output_type": "stream",
     "text": [
      "Pawan -> Sept 2nd\n",
      "Saranya -> Sept 4th\n",
      "Sravya -> Jan 2nd\n",
      "Prasanna -> Jan 31st\n",
      "Deepu -> Feb 2nd\n",
      "Saila -> March 17th\n"
     ]
    }
   ],
   "source": [
    "# It can be done by dict.keys(), dict.values(), dict.items()\n",
    "# Using keys()\n",
    "birthDates = {'Pawan':'Sept 2nd','Saranya':'Sept 4th','Sravya':'Jan 2nd','Prasanna':'Jan 31st','Deepu':'Feb 2nd','Saila':'March 17th'}\n",
    "for name in birthDates.keys():\n",
    "    print(name,'->',birthDates[name])"
   ]
  },
  {
   "cell_type": "code",
   "execution_count": 22,
   "id": "f383e39b",
   "metadata": {},
   "outputs": [
    {
     "name": "stdout",
     "output_type": "stream",
     "text": [
      "Sept 2nd\n",
      "Sept 4th\n",
      "Jan 2nd\n",
      "Jan 31st\n",
      "Feb 2nd\n",
      "March 17th\n"
     ]
    }
   ],
   "source": [
    "# Using values()\n",
    "for dates in birthDates.values():\n",
    "    print(dates)"
   ]
  },
  {
   "cell_type": "code",
   "execution_count": 23,
   "id": "3a16d021",
   "metadata": {},
   "outputs": [
    {
     "name": "stdout",
     "output_type": "stream",
     "text": [
      "Pawan --> Sept 2nd\n",
      "Saranya --> Sept 4th\n",
      "Sravya --> Jan 2nd\n",
      "Prasanna --> Jan 31st\n",
      "Deepu --> Feb 2nd\n",
      "Saila --> March 17th\n"
     ]
    }
   ],
   "source": [
    "# Using items()\n",
    "for name,date in birthDates.items():\n",
    "    print(name,'-->',date)"
   ]
  },
  {
   "cell_type": "markdown",
   "id": "ae4f5ab4",
   "metadata": {},
   "source": [
    "### Nested dictionaries"
   ]
  },
  {
   "cell_type": "code",
   "execution_count": 24,
   "id": "a3151d13",
   "metadata": {},
   "outputs": [
    {
     "data": {
      "text/plain": [
       "{'std1': {'name': 'Sai', 'age': 17},\n",
       " 'std2': {'name': 'Ram', 'age': 18},\n",
       " 'std3': {'name': 'Charan', 'age': 17}}"
      ]
     },
     "execution_count": 24,
     "metadata": {},
     "output_type": "execute_result"
    }
   ],
   "source": [
    "nD = {'std1':{'name':'Sai','age':17},'std2':{'name':'Ram','age':18},'std3':{'name':'Charan','age':17}}\n",
    "nD"
   ]
  },
  {
   "cell_type": "code",
   "execution_count": 25,
   "id": "fa4030a7",
   "metadata": {},
   "outputs": [
    {
     "ename": "TypeError",
     "evalue": "unhashable type: 'list'",
     "output_type": "error",
     "traceback": [
      "\u001b[1;31m---------------------------------------------------------------------------\u001b[0m",
      "\u001b[1;31mTypeError\u001b[0m                                 Traceback (most recent call last)",
      "Input \u001b[1;32mIn [25]\u001b[0m, in \u001b[0;36m<cell line: 1>\u001b[1;34m()\u001b[0m\n\u001b[1;32m----> 1\u001b[0m sampleDict \u001b[38;5;241m=\u001b[39m {[\u001b[38;5;124m'\u001b[39m\u001b[38;5;124mName\u001b[39m\u001b[38;5;124m'\u001b[39m,\u001b[38;5;124m'\u001b[39m\u001b[38;5;124mAge\u001b[39m\u001b[38;5;124m'\u001b[39m]:[\u001b[38;5;124m'\u001b[39m\u001b[38;5;124mSravya\u001b[39m\u001b[38;5;124m'\u001b[39m,\u001b[38;5;241m17\u001b[39m],[\u001b[38;5;124m'\u001b[39m\u001b[38;5;124mName\u001b[39m\u001b[38;5;124m'\u001b[39m,\u001b[38;5;124m'\u001b[39m\u001b[38;5;124mAge\u001b[39m\u001b[38;5;124m'\u001b[39m]:[\u001b[38;5;124m'\u001b[39m\u001b[38;5;124mDeep\u001b[39m\u001b[38;5;124m'\u001b[39m,\u001b[38;5;241m15\u001b[39m]}\n\u001b[0;32m      2\u001b[0m sampleDict\n",
      "\u001b[1;31mTypeError\u001b[0m: unhashable type: 'list'"
     ]
    }
   ],
   "source": [
    "sampleDict = {['Name','Age']:['Sravya',17],['Name','Age']:['Deep',15]}\n",
    "sampleDict"
   ]
  },
  {
   "cell_type": "markdown",
   "id": "4ed60ac7",
   "metadata": {},
   "source": [
    "From this we can say that the values in dictionary items can be of any data type, but keys should contain only immutable types."
   ]
  }
 ],
 "metadata": {
  "kernelspec": {
   "display_name": "Python 3 (ipykernel)",
   "language": "python",
   "name": "python3"
  },
  "language_info": {
   "codemirror_mode": {
    "name": "ipython",
    "version": 3
   },
   "file_extension": ".py",
   "mimetype": "text/x-python",
   "name": "python",
   "nbconvert_exporter": "python",
   "pygments_lexer": "ipython3",
   "version": "3.9.12"
  }
 },
 "nbformat": 4,
 "nbformat_minor": 5
}
