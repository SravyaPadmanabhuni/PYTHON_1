{
 "cells": [
  {
   "cell_type": "markdown",
   "id": "53a488a0",
   "metadata": {},
   "source": [
    "### Print statements in Python"
   ]
  },
  {
   "cell_type": "markdown",
   "id": "fefbda8c",
   "metadata": {},
   "source": [
    "> The print() function in Python is used to print a specified message on the screen. \n",
    "> The print command in Python prints strings or objects which are converted to a string while printing on a screen."
   ]
  },
  {
   "cell_type": "code",
   "execution_count": 9,
   "id": "dd0812eb",
   "metadata": {},
   "outputs": [
    {
     "name": "stdout",
     "output_type": "stream",
     "text": [
      "Python is popular programming language\n"
     ]
    }
   ],
   "source": [
    "print('Python is popular programming language')"
   ]
  },
  {
   "cell_type": "code",
   "execution_count": 10,
   "id": "118a0c76",
   "metadata": {},
   "outputs": [
    {
     "name": "stdout",
     "output_type": "stream",
     "text": [
      "Python\n",
      "Data Science\n",
      "Machine Learning\n",
      "Cyber Security\n"
     ]
    }
   ],
   "source": [
    "print('Python')\n",
    "print('Data Science')\n",
    "print('Machine Learning')\n",
    "print('Cyber Security')"
   ]
  },
  {
   "cell_type": "code",
   "execution_count": 2,
   "id": "365bf559",
   "metadata": {},
   "outputs": [
    {
     "name": "stdout",
     "output_type": "stream",
     "text": [
      "My name is Sravya\n"
     ]
    }
   ],
   "source": [
    "name = 'Sravya'\n",
    "print('My name is',name)"
   ]
  },
  {
   "cell_type": "code",
   "execution_count": 29,
   "id": "572e7f09",
   "metadata": {},
   "outputs": [
    {
     "name": "stdout",
     "output_type": "stream",
     "text": [
      "Hey! How are you?"
     ]
    }
   ],
   "source": [
    "a = 'Hey'\n",
    "b = 'How are you'\n",
    "print(a+'! '+b,end = '?')"
   ]
  },
  {
   "cell_type": "code",
   "execution_count": 28,
   "id": "5f135111",
   "metadata": {},
   "outputs": [
    {
     "name": "stdout",
     "output_type": "stream",
     "text": [
      "Hey! How are you?"
     ]
    }
   ],
   "source": [
    "a = 'Hey'\n",
    "b = 'How are you'\n",
    "print(a,b,sep = '! ',end = '?')"
   ]
  },
  {
   "cell_type": "code",
   "execution_count": 13,
   "id": "a2ab953f",
   "metadata": {},
   "outputs": [
    {
     "name": "stdout",
     "output_type": "stream",
     "text": [
      "\n",
      "\n"
     ]
    }
   ],
   "source": [
    "print('\\n')"
   ]
  },
  {
   "cell_type": "code",
   "execution_count": 15,
   "id": "7500d973",
   "metadata": {},
   "outputs": [
    {
     "name": "stdout",
     "output_type": "stream",
     "text": [
      "\n",
      "\n",
      "\n",
      "\n",
      "\n",
      "\n",
      "\n",
      "\n",
      "PYTHON\n"
     ]
    }
   ],
   "source": [
    "print('\\n'*8+'PYTHON')"
   ]
  },
  {
   "cell_type": "code",
   "execution_count": 16,
   "id": "44f39db3",
   "metadata": {},
   "outputs": [
    {
     "name": "stdout",
     "output_type": "stream",
     "text": [
      "   DS\n"
     ]
    }
   ],
   "source": [
    "print(' '*3+'DS')"
   ]
  },
  {
   "cell_type": "code",
   "execution_count": 18,
   "id": "192b8b55",
   "metadata": {},
   "outputs": [
    {
     "name": "stdout",
     "output_type": "stream",
     "text": [
      "Good Morning :)"
     ]
    }
   ],
   "source": [
    "a = 'Good'\n",
    "b = 'Morning'\n",
    "print(a,b,end = ' :)')"
   ]
  },
  {
   "cell_type": "code",
   "execution_count": 21,
   "id": "eef4c3e9",
   "metadata": {},
   "outputs": [
    {
     "name": "stdout",
     "output_type": "stream",
     "text": [
      "PyPyPyPy\n"
     ]
    }
   ],
   "source": [
    "print('Py'*4)"
   ]
  },
  {
   "cell_type": "code",
   "execution_count": 26,
   "id": "dfdb09e7",
   "metadata": {},
   "outputs": [
    {
     "name": "stdout",
     "output_type": "stream",
     "text": [
      "5,6 are n1 and n2 respectively"
     ]
    }
   ],
   "source": [
    "n1 = 5\n",
    "n2 = 6\n",
    "print(n1,n2,sep = ',',end = ' are n1 and n2 respectively' )"
   ]
  },
  {
   "cell_type": "code",
   "execution_count": 30,
   "id": "447da301",
   "metadata": {},
   "outputs": [
    {
     "name": "stdout",
     "output_type": "stream",
     "text": [
      "Given number is 90\n"
     ]
    }
   ],
   "source": [
    "a = 90\n",
    "print('Given number is %d'%a)"
   ]
  },
  {
   "cell_type": "code",
   "execution_count": 33,
   "id": "5fc152d0",
   "metadata": {},
   "outputs": [
    {
     "name": "stdout",
     "output_type": "stream",
     "text": [
      "Saranya is good girl\n"
     ]
    }
   ],
   "source": [
    "s = '%s is good girl'\n",
    "print(s%'Saranya')"
   ]
  },
  {
   "cell_type": "code",
   "execution_count": 34,
   "id": "8741d910",
   "metadata": {},
   "outputs": [
    {
     "name": "stdout",
     "output_type": "stream",
     "text": [
      "Sravya is good girl\n"
     ]
    }
   ],
   "source": [
    "s = '%s is good girl'\n",
    "print(s%'Sravya')"
   ]
  },
  {
   "cell_type": "code",
   "execution_count": 35,
   "id": "8e81347c",
   "metadata": {},
   "outputs": [
    {
     "name": "stdout",
     "output_type": "stream",
     "text": [
      "Pawan prepared and went for presentation\n"
     ]
    }
   ],
   "source": [
    "x = 'prepared'\n",
    "print(\"Pawan %s and %s for presentation\"%(x,'went'))"
   ]
  },
  {
   "cell_type": "code",
   "execution_count": 69,
   "id": "7f822b8f",
   "metadata": {},
   "outputs": [
    {
     "name": "stdout",
     "output_type": "stream",
     "text": [
      "Product of 30,7 is 210\n",
      "Product of 30 and 7 is 210\n",
      "Product of 30 and 7 is 210\n",
      "Product of 30,7 is 210\n",
      "Product is : 210\n"
     ]
    }
   ],
   "source": [
    "f=30\n",
    "g=7\n",
    "h=f*g\n",
    "print(\"Product of {},{} is {}\".format(f,g,h)) # here we should write in order\n",
    "print(\"Product of {f} and {g} is {h}\".format(f=f,g=g,h=h))\n",
    "print(\"Product of {f} and {g} is {h}\".format(f=f,h=h,g=g)) # here no need of order as we are specifying each object with that number itself\n",
    "print(\"Product of %d,%d is %d\"%(f,g,h))\n",
    "print(\"Product is :\",h)"
   ]
  },
  {
   "cell_type": "code",
   "execution_count": 36,
   "id": "69fbdfb0",
   "metadata": {},
   "outputs": [
    {
     "ename": "SyntaxError",
     "evalue": "invalid syntax (406429915.py, line 1)",
     "output_type": "error",
     "traceback": [
      "\u001b[1;36m  Input \u001b[1;32mIn [36]\u001b[1;36m\u001b[0m\n\u001b[1;33m    print('She is 'intelligent' ')\u001b[0m\n\u001b[1;37m                   ^\u001b[0m\n\u001b[1;31mSyntaxError\u001b[0m\u001b[1;31m:\u001b[0m invalid syntax\n"
     ]
    }
   ],
   "source": [
    "print('She is 'intelligent' ')"
   ]
  },
  {
   "cell_type": "code",
   "execution_count": 37,
   "id": "307f1e99",
   "metadata": {},
   "outputs": [
    {
     "name": "stdout",
     "output_type": "stream",
     "text": [
      "She is \"intelligent\" \n"
     ]
    }
   ],
   "source": [
    "print('She is \"intelligent\" ')"
   ]
  },
  {
   "cell_type": "code",
   "execution_count": 46,
   "id": "17f61708",
   "metadata": {},
   "outputs": [
    {
     "name": "stdout",
     "output_type": "stream",
     "text": [
      "She is intelligent \n",
      "She is pretty\n"
     ]
    }
   ],
   "source": [
    "print('She is intelligent \\nShe is pretty')"
   ]
  },
  {
   "cell_type": "code",
   "execution_count": 47,
   "id": "cc25ab07",
   "metadata": {},
   "outputs": [
    {
     "name": "stdout",
     "output_type": "stream",
     "text": [
      "She is intelligent \\nShe is pretty\n"
     ]
    }
   ],
   "source": [
    "print(r'She is intelligent \\nShe is pretty')"
   ]
  },
  {
   "cell_type": "code",
   "execution_count": 51,
   "id": "8bc48cc2",
   "metadata": {},
   "outputs": [
    {
     "name": "stdout",
     "output_type": "stream",
     "text": [
      "She is intelligent \tShe is pretty\n"
     ]
    }
   ],
   "source": [
    "print('She is intelligent \\tShe is pretty')"
   ]
  },
  {
   "cell_type": "code",
   "execution_count": 52,
   "id": "cd743c0f",
   "metadata": {},
   "outputs": [
    {
     "name": "stdout",
     "output_type": "stream",
     "text": [
      "She is intelligent \\tShe is pretty\n"
     ]
    }
   ],
   "source": [
    "print(R'She is intelligent \\tShe is pretty')"
   ]
  },
  {
   "cell_type": "markdown",
   "id": "ccec7ef7",
   "metadata": {},
   "source": [
    "### Datatypes in Python"
   ]
  },
  {
   "cell_type": "markdown",
   "id": "abc25dbf",
   "metadata": {},
   "source": [
    "> Every variable value has a particular datatype."
   ]
  },
  {
   "cell_type": "markdown",
   "id": "afd8586d",
   "metadata": {},
   "source": [
    "## Standard datatypes\n",
    "| category | data types |\n",
    "|----|---|\n",
    "| Numeric datatypes  | integer, long, float, complex |\n",
    "| boolean  | boolean |\n",
    "| Alpha numeric  | string |"
   ]
  },
  {
   "cell_type": "markdown",
   "id": "f171c416",
   "metadata": {},
   "source": [
    "### Numeric datatypes\n",
    "| numeric data type | Format |  Description|\n",
    "|----|---|----|\n",
    "|int|x=4 | Signed Integer|\n",
    "|float|x=5.2 | \t(.) Floating point real values |\n",
    "|complex|x=3.14J | (J) Contains integer in the range 0 to 255. |\n"
   ]
  },
  {
   "cell_type": "markdown",
   "id": "7b3fbd36",
   "metadata": {},
   "source": [
    "> To know the datatype of particular variable we use type() function in Python"
   ]
  },
  {
   "cell_type": "code",
   "execution_count": 54,
   "id": "3c8959ed",
   "metadata": {},
   "outputs": [
    {
     "name": "stdout",
     "output_type": "stream",
     "text": [
      "Sravya Sravya Sravya\n",
      "<class 'str'> <class 'str'> <class 'str'>\n"
     ]
    }
   ],
   "source": [
    "str1 = 'Sravya'\n",
    "str2 = \"Sravya\"\n",
    "str3 = '''Sravya'''\n",
    "print(str1,str2,str3)\n",
    "print(type(str1),type(str2),type(str3))"
   ]
  },
  {
   "cell_type": "code",
   "execution_count": 55,
   "id": "10de9b25",
   "metadata": {},
   "outputs": [
    {
     "name": "stdout",
     "output_type": "stream",
     "text": [
      "5 10.23 (5+6j)\n",
      "<class 'int'> <class 'float'> <class 'complex'>\n"
     ]
    }
   ],
   "source": [
    "n = 5\n",
    "f = 10.23\n",
    "b = 5+6j\n",
    "print(n,f,b)\n",
    "print(type(n),type(f),type(b))"
   ]
  },
  {
   "cell_type": "markdown",
   "id": "f1d88ca4",
   "metadata": {},
   "source": [
    "int+float - > float(as resultant is always higher)"
   ]
  },
  {
   "cell_type": "code",
   "execution_count": 56,
   "id": "bc5b3520",
   "metadata": {},
   "outputs": [
    {
     "name": "stdout",
     "output_type": "stream",
     "text": [
      "11.0\n"
     ]
    }
   ],
   "source": [
    "a = 3\n",
    "b = 8.0\n",
    "print(a+b)"
   ]
  },
  {
   "cell_type": "markdown",
   "id": "0d8948eb",
   "metadata": {},
   "source": [
    "boolean+int - > int"
   ]
  },
  {
   "cell_type": "code",
   "execution_count": 57,
   "id": "f0589b76",
   "metadata": {},
   "outputs": [
    {
     "name": "stdout",
     "output_type": "stream",
     "text": [
      "10\n"
     ]
    }
   ],
   "source": [
    "a = True\n",
    "b = 9\n",
    "print(a+b) #here True will be considered as 1 and False will be considered as 0"
   ]
  },
  {
   "cell_type": "code",
   "execution_count": 59,
   "id": "8bade7e3",
   "metadata": {},
   "outputs": [
    {
     "name": "stdout",
     "output_type": "stream",
     "text": [
      "9.89\n",
      "9\n"
     ]
    }
   ],
   "source": [
    "f = 9.89\n",
    "print(f)\n",
    "print(int(f))"
   ]
  },
  {
   "cell_type": "code",
   "execution_count": 60,
   "id": "8d88e98a",
   "metadata": {},
   "outputs": [
    {
     "name": "stdout",
     "output_type": "stream",
     "text": [
      "5\n"
     ]
    }
   ],
   "source": [
    "print(0b0101) #binary"
   ]
  },
  {
   "cell_type": "code",
   "execution_count": 66,
   "id": "93077788",
   "metadata": {},
   "outputs": [
    {
     "name": "stdout",
     "output_type": "stream",
     "text": [
      "86\n",
      "362\n"
     ]
    }
   ],
   "source": [
    "print(0o126) #octal\n",
    "print(0x16a) #hexadecimal"
   ]
  },
  {
   "cell_type": "code",
   "execution_count": 61,
   "id": "879b3612",
   "metadata": {},
   "outputs": [
    {
     "name": "stdout",
     "output_type": "stream",
     "text": [
      "123456789\n"
     ]
    }
   ],
   "source": [
    "n = 12_3_4_567_89\n",
    "print(n)"
   ]
  },
  {
   "cell_type": "markdown",
   "id": "149702a0",
   "metadata": {},
   "source": [
    "If a=2.12345\n",
    "     To print only particular number of values after decimal we use %n1.n2f\n",
    "     <br>\n",
    "     i.e...\n",
    "     <br>\n",
    "        n1--> Minimum number of characters \n",
    "        <br>\n",
    "        n2--> Number of values after decimal point\n",
    "        <br>\n",
    "        for ex: if we need to print in a after decimal 2 values only so we use %0.2f\n",
    "        <br>\n",
    "        n1 can be anything\n",
    "        <br>\n",
    "        for example if we write %10.3f here n1 is 10 n2 is 3 ---> minimum number of characters = 1(before decimal point in a)+1(decimal point(.))+n2\n",
    "        <br>\n",
    "        i.e..n1=1+1+n2\n",
    "        <br>\n",
    "        10=n2+2\n",
    "        <br>\n",
    "        n2 here is 3 so 10=5,so we need to use 5 spaces\n",
    "        <br>\n",
    "        spaces=n1-(n2+2)"
   ]
  },
  {
   "cell_type": "code",
   "execution_count": 67,
   "id": "4841f41c",
   "metadata": {},
   "outputs": [
    {
     "name": "stdout",
     "output_type": "stream",
     "text": [
      "2.123450\n",
      "2\n",
      "2.1\n",
      "2.12\n",
      "2.123\n",
      "2.1235\n",
      "2.12345\n",
      "2.123450\n",
      "2.1234500\n",
      "2\n",
      "2.12345\n",
      "2.123450\n",
      "         2\n",
      "       2.1\n",
      "      2.12\n",
      "     2.123\n",
      "    2.1235\n",
      "   2.12345\n",
      "  2.123450\n"
     ]
    }
   ],
   "source": [
    "a=2.12345\n",
    "print(\"%f\"%(a))\n",
    "print(\"%0.0f\"%(a))\n",
    "print(\"%0.1f\"%(a))\n",
    "print(\"%0.2f\"%(a))\n",
    "print(\"%0.3f\"%(a))\n",
    "print(\"%0.4f\"%(a))\n",
    "print(\"%0.5f\"%(a))\n",
    "print(\"%0.6f\"%(a))\n",
    "print(\"%0.7f\"%(a))\n",
    "print(\"%1.0f\"%(a))\n",
    "print(\"%1.5f\"%(a))\n",
    "print(\"%1.6f\"%(a))\n",
    "print(\"%10.0f\"%(a)) # here n1=10,n2=0,10=1+1+0=2,,(10-2)spaces--> 8 spaces\n",
    "print(\"%10.1f\"%(a))\n",
    "print(\"%10.2f\"%(a))\n",
    "print(\"%10.3f\"%(a))\n",
    "print(\"%10.4f\"%(a))\n",
    "print(\"%10.5f\"%(a))\n",
    "print(\"%10.6f\"%(a))"
   ]
  },
  {
   "cell_type": "code",
   "execution_count": 94,
   "id": "a63d392c",
   "metadata": {},
   "outputs": [
    {
     "name": "stdout",
     "output_type": "stream",
     "text": [
      "sRaVya2\n",
      "Sravya2\n",
      "sravya2\n",
      "SRAVYA2\n",
      "False\n",
      "False\n",
      "Sravya2\n",
      "False\n",
      "True\n",
      "False\n",
      "True\n",
      "2\n",
      "False\n",
      "True\n",
      "2\n",
      "2\n",
      "$$sRaVya2$$$\n",
      "False\n"
     ]
    }
   ],
   "source": [
    "#String methods\n",
    "s = 'sRaVya2'\n",
    "print(s)\n",
    "print(s.capitalize())\n",
    "print(s.lower())\n",
    "print(s.upper())\n",
    "print(s.islower())\n",
    "print(s.isupper())\n",
    "print(s.title())\n",
    "print(s.isdigit())\n",
    "print(s.isalnum())\n",
    "print(s.isalpha())\n",
    "print('s' in s)\n",
    "print(s.count('a'))\n",
    "print(s.endswith('a'))\n",
    "print(s.startswith('s'))\n",
    "print(s.index('a'))\n",
    "print(s.find('a'))\n",
    "print(s.center(12,'$'))\n",
    "print(s.isspace())"
   ]
  },
  {
   "cell_type": "code",
   "execution_count": 89,
   "id": "8b189af0",
   "metadata": {},
   "outputs": [
    {
     "name": "stdout",
     "output_type": "stream",
     "text": [
      "['Sai', 'Lakshmi']\n"
     ]
    }
   ],
   "source": [
    "string = '   Sai  Lakshmi'\n",
    "print(string.split())"
   ]
  },
  {
   "cell_type": "code",
   "execution_count": 90,
   "id": "4d5fcd5c",
   "metadata": {},
   "outputs": [
    {
     "name": "stdout",
     "output_type": "stream",
     "text": [
      "['   Sa', 'i  La', 'kshm', 'i']\n"
     ]
    }
   ],
   "source": [
    "string = '   Sa$i  La$kshm$i'\n",
    "print(string.split('$'))"
   ]
  },
  {
   "cell_type": "code",
   "execution_count": 95,
   "id": "735fba9e",
   "metadata": {},
   "outputs": [
    {
     "name": "stdout",
     "output_type": "stream",
     "text": [
      "('   Sa', '$', 'i  La$kshm$i')\n"
     ]
    }
   ],
   "source": [
    "string = '   Sa$i  La$kshm$i'\n",
    "print(string.partition('$'))"
   ]
  },
  {
   "cell_type": "code",
   "execution_count": 91,
   "id": "ca53eb3e",
   "metadata": {},
   "outputs": [
    {
     "name": "stdout",
     "output_type": "stream",
     "text": [
      "Python Python \n"
     ]
    }
   ],
   "source": [
    "print('Python '*2)"
   ]
  }
 ],
 "metadata": {
  "kernelspec": {
   "display_name": "Python 3 (ipykernel)",
   "language": "python",
   "name": "python3"
  },
  "language_info": {
   "codemirror_mode": {
    "name": "ipython",
    "version": 3
   },
   "file_extension": ".py",
   "mimetype": "text/x-python",
   "name": "python",
   "nbconvert_exporter": "python",
   "pygments_lexer": "ipython3",
   "version": "3.9.12"
  }
 },
 "nbformat": 4,
 "nbformat_minor": 5
}
