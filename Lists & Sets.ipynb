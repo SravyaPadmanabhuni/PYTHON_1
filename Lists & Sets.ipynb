{
 "cells": [
  {
   "cell_type": "markdown",
   "id": "23145394",
   "metadata": {},
   "source": [
    "# Lists and Sets"
   ]
  },
  {
   "cell_type": "markdown",
   "id": "a7bd4485",
   "metadata": {},
   "source": [
    "## Lists"
   ]
  },
  {
   "cell_type": "markdown",
   "id": "a104d8e5",
   "metadata": {},
   "source": [
    "LIST : Lists are used to store multiple items in a single variable.\n",
    "1. List items are ordered, changeable and allow duplicate values.\n",
    "2. List items are indexed, the first item can be accessed as list_name[0], second item as list_name[1] etc...\n",
    "3. If we add new items to the list the items will be added at the end(i.e..List is ordered).\n",
    "4. We can manipulate the list elements we can add, remove, delete list elements(i.e..List is changeable).\n",
    "5. As they have index they can have same values(i.e..allows duplicates)."
   ]
  },
  {
   "cell_type": "code",
   "execution_count": 1,
   "id": "68e4220c",
   "metadata": {},
   "outputs": [
    {
     "data": {
      "text/plain": [
       "[2, 4, 6, 8, 10]"
      ]
     },
     "execution_count": 1,
     "metadata": {},
     "output_type": "execute_result"
    }
   ],
   "source": [
    "# sample list \n",
    "lst = [2,4,6,8,10]\n",
    "lst"
   ]
  },
  {
   "cell_type": "code",
   "execution_count": 2,
   "id": "1a0174c9",
   "metadata": {},
   "outputs": [
    {
     "data": {
      "text/plain": [
       "2"
      ]
     },
     "execution_count": 2,
     "metadata": {},
     "output_type": "execute_result"
    }
   ],
   "source": [
    "# accessing list elements\n",
    "lst[0]"
   ]
  },
  {
   "cell_type": "code",
   "execution_count": 3,
   "id": "06f85b21",
   "metadata": {},
   "outputs": [
    {
     "data": {
      "text/plain": [
       "10"
      ]
     },
     "execution_count": 3,
     "metadata": {},
     "output_type": "execute_result"
    }
   ],
   "source": [
    "lst[4] #starting index is 0 and last index is length of the list -1"
   ]
  },
  {
   "cell_type": "markdown",
   "id": "aba2af97",
   "metadata": {},
   "source": [
    "#### Length of the list can be found by len(list_name)"
   ]
  },
  {
   "cell_type": "code",
   "execution_count": 4,
   "id": "6f2ec207",
   "metadata": {},
   "outputs": [
    {
     "data": {
      "text/plain": [
       "5"
      ]
     },
     "execution_count": 4,
     "metadata": {},
     "output_type": "execute_result"
    }
   ],
   "source": [
    "len(lst)"
   ]
  },
  {
   "cell_type": "code",
   "execution_count": 5,
   "id": "185b46a1",
   "metadata": {},
   "outputs": [
    {
     "name": "stdout",
     "output_type": "stream",
     "text": [
      "2 4 6 8 10 "
     ]
    }
   ],
   "source": [
    "for i in range(len(lst)):\n",
    "    print(lst[i], end = ' ')"
   ]
  },
  {
   "cell_type": "code",
   "execution_count": 6,
   "id": "6609f433",
   "metadata": {},
   "outputs": [
    {
     "name": "stdout",
     "output_type": "stream",
     "text": [
      "2 4 6 8 10 "
     ]
    }
   ],
   "source": [
    "for i in lst:\n",
    "    print(i,end = ' ')"
   ]
  },
  {
   "cell_type": "markdown",
   "id": "aba09ef6",
   "metadata": {},
   "source": [
    "#### A list can contain different datatypes"
   ]
  },
  {
   "cell_type": "code",
   "execution_count": 7,
   "id": "c31d9e2b",
   "metadata": {},
   "outputs": [
    {
     "name": "stdout",
     "output_type": "stream",
     "text": [
      "Py <class 'str'>\n",
      "2 <class 'int'>\n",
      "True <class 'bool'>\n",
      "76.5 <class 'float'>\n"
     ]
    },
    {
     "data": {
      "text/plain": [
       "list"
      ]
     },
     "execution_count": 7,
     "metadata": {},
     "output_type": "execute_result"
    }
   ],
   "source": [
    "lst1 = ['Py',2,True,76.5]\n",
    "for i in lst1:\n",
    "    print(i,type(i))\n",
    "type(lst1)"
   ]
  },
  {
   "cell_type": "markdown",
   "id": "f7271a55",
   "metadata": {},
   "source": [
    "#### We can also create new list using list() constructor"
   ]
  },
  {
   "cell_type": "code",
   "execution_count": 8,
   "id": "90a4746c",
   "metadata": {},
   "outputs": [
    {
     "data": {
      "text/plain": [
       "[12, 13, 22, 35, 47]"
      ]
     },
     "execution_count": 8,
     "metadata": {},
     "output_type": "execute_result"
    }
   ],
   "source": [
    "lst2 = list([12,13,22,35,47])\n",
    "lst2"
   ]
  },
  {
   "cell_type": "markdown",
   "id": "82433c56",
   "metadata": {},
   "source": [
    "#### Negative indexing\n",
    "\n",
    "1. Negative indexing means start from the end\n",
    "2. -1 refers to the last item, -2 refers to the second last item etc."
   ]
  },
  {
   "cell_type": "code",
   "execution_count": 9,
   "id": "23fac9af",
   "metadata": {},
   "outputs": [
    {
     "data": {
      "text/plain": [
       "47"
      ]
     },
     "execution_count": 9,
     "metadata": {},
     "output_type": "execute_result"
    }
   ],
   "source": [
    "lst2[-1]"
   ]
  },
  {
   "cell_type": "code",
   "execution_count": 10,
   "id": "f5d1e435",
   "metadata": {},
   "outputs": [
    {
     "data": {
      "text/plain": [
       "35"
      ]
     },
     "execution_count": 10,
     "metadata": {},
     "output_type": "execute_result"
    }
   ],
   "source": [
    "lst2[-2]"
   ]
  },
  {
   "cell_type": "markdown",
   "id": "133a2c91",
   "metadata": {},
   "source": [
    "#### Slicing : You can specify a range of indexes by specifying where to start and where to end the range.\n",
    "#### When specifying a range, the return value will be a new list with the specified items.\n",
    "#### We can also give step value also"
   ]
  },
  {
   "cell_type": "code",
   "execution_count": 11,
   "id": "f10fb293",
   "metadata": {},
   "outputs": [
    {
     "data": {
      "text/plain": [
       "['Python2', 'Python3', 'Anaconda']"
      ]
     },
     "execution_count": 11,
     "metadata": {},
     "output_type": "execute_result"
    }
   ],
   "source": [
    "l = ['Py','Python','Python2','Python3','Anaconda','Prompt','Navigator','Jupyter notebook']\n",
    "l[2:5] #starting index is included and ending index is excluded"
   ]
  },
  {
   "cell_type": "code",
   "execution_count": 12,
   "id": "1fe2940e",
   "metadata": {},
   "outputs": [
    {
     "data": {
      "text/plain": [
       "['Python', 'Python3', 'Prompt']"
      ]
     },
     "execution_count": 12,
     "metadata": {},
     "output_type": "execute_result"
    }
   ],
   "source": [
    "l[1:6:2] #starting from index 1 to 5 with step size 2"
   ]
  },
  {
   "cell_type": "code",
   "execution_count": 13,
   "id": "291df822",
   "metadata": {},
   "outputs": [
    {
     "data": {
      "text/plain": [
       "['Python3', 'Anaconda', 'Prompt', 'Navigator', 'Jupyter notebook']"
      ]
     },
     "execution_count": 13,
     "metadata": {},
     "output_type": "execute_result"
    }
   ],
   "source": [
    "l[-5::]"
   ]
  },
  {
   "cell_type": "code",
   "execution_count": 14,
   "id": "7aade580",
   "metadata": {},
   "outputs": [
    {
     "data": {
      "text/plain": [
       "['Python3', 'Python2', 'Python', 'Py']"
      ]
     },
     "execution_count": 14,
     "metadata": {},
     "output_type": "execute_result"
    }
   ],
   "source": [
    "l[-5::-1] # reverse from that index"
   ]
  },
  {
   "cell_type": "code",
   "execution_count": 15,
   "id": "80a7729c",
   "metadata": {},
   "outputs": [
    {
     "data": {
      "text/plain": [
       "['Py', 'Python', 'Python2']"
      ]
     },
     "execution_count": 15,
     "metadata": {},
     "output_type": "execute_result"
    }
   ],
   "source": [
    "l[:3]"
   ]
  },
  {
   "cell_type": "code",
   "execution_count": 16,
   "id": "0a558f37",
   "metadata": {},
   "outputs": [
    {
     "name": "stdout",
     "output_type": "stream",
     "text": [
      "['Jupyter notebook', 'Navigator', 'Prompt', 'Anaconda', 'Python3', 'Python2', 'Python', 'Py']\n"
     ]
    }
   ],
   "source": [
    "print(l[::-1])"
   ]
  },
  {
   "cell_type": "markdown",
   "id": "fbbecc99",
   "metadata": {},
   "source": [
    "#### Checking the elements present in the list or not using in and not in operators"
   ]
  },
  {
   "cell_type": "code",
   "execution_count": 17,
   "id": "07f2c687",
   "metadata": {},
   "outputs": [
    {
     "name": "stdout",
     "output_type": "stream",
     "text": [
      "35 is in list\n"
     ]
    }
   ],
   "source": [
    "if 35 in lst2:\n",
    "    print('35 is in list')"
   ]
  },
  {
   "cell_type": "code",
   "execution_count": 18,
   "id": "be441f0f",
   "metadata": {},
   "outputs": [
    {
     "name": "stdout",
     "output_type": "stream",
     "text": [
      "False\n"
     ]
    }
   ],
   "source": [
    "print(23 in lst2)"
   ]
  },
  {
   "cell_type": "markdown",
   "id": "2d4e5787",
   "metadata": {},
   "source": [
    "#### Changing list elements\n",
    "1. Single element\n",
    "2. Changing range of list elements"
   ]
  },
  {
   "cell_type": "code",
   "execution_count": 19,
   "id": "2724c37e",
   "metadata": {},
   "outputs": [
    {
     "name": "stdout",
     "output_type": "stream",
     "text": [
      "['a', 'b', 'c', 'd', 'e', 'f', 'g', 'h', 'i', 'f', 'k', 'l', 'm', 'n', 'o', 'p', 'q', 'r', 's', 't', 'u', 'v', 'w', 'x', 'y', 'z']\n"
     ]
    }
   ],
   "source": [
    "l = [i for i in 'abcdefghifklmnopqrstuvwxyz']\n",
    "print(l)"
   ]
  },
  {
   "cell_type": "code",
   "execution_count": 20,
   "id": "67844835",
   "metadata": {},
   "outputs": [
    {
     "name": "stdout",
     "output_type": "stream",
     "text": [
      "['a', 'S', 'c', 'S', 'e', 'S', 'g', 'S', 'i', 'S', 'k', 'S', 'm', 'S', 'o', 'S', 'q', 'S', 's', 'S', 'u', 'S', 'w', 'S', 'y', 'S']\n"
     ]
    }
   ],
   "source": [
    "# changing all negative indexed alphabets to 'S'\n",
    "for i in range(len(l)):\n",
    "    if i%2 != 0:\n",
    "        l[i] = 'S'\n",
    "print(l)"
   ]
  },
  {
   "cell_type": "code",
   "execution_count": 21,
   "id": "3273ad45",
   "metadata": {},
   "outputs": [
    {
     "name": "stdout",
     "output_type": "stream",
     "text": [
      "['a', 'S', 'c', 'S', 'e', 'S', 'g', 'S', 'i', 'S', 'k', 'S', 'm', 'S', 'o', 'S', 'q', 'S', 's', 'S', 'u', 'S', 'w', 'S', 'y', 'S']\n",
      "['a', 's', 's', 'c', 'S', 'e', 'S', 'g', 'S', 'i', 'S', 'k', 'S', 'm', 'S', 'o', 'S', 'q', 'S', 's', 'S', 'u', 'S', 'w', 'S', 'y', 'S']\n"
     ]
    }
   ],
   "source": [
    "print(l)\n",
    "l[1:2] = ['s','s']\n",
    "print(l)"
   ]
  },
  {
   "cell_type": "markdown",
   "id": "1fc40d59",
   "metadata": {},
   "source": [
    "#### Note: The length of the list will change when the number of items inserted does not match the number of items replaced."
   ]
  },
  {
   "cell_type": "code",
   "execution_count": 22,
   "id": "a02ac00e",
   "metadata": {},
   "outputs": [
    {
     "name": "stdout",
     "output_type": "stream",
     "text": [
      "['a', 'h', 'e', 'S', 'g', 'S', 'i', 'S', 'k', 'S', 'm', 'S', 'o', 'S', 'q', 'S', 's', 'S', 'u', 'S', 'w', 'S', 'y', 'S']\n",
      "24\n"
     ]
    }
   ],
   "source": [
    "l[1:5] = ['h']\n",
    "print(l)\n",
    "print(len(l))"
   ]
  },
  {
   "cell_type": "markdown",
   "id": "988de6a6",
   "metadata": {},
   "source": [
    "### Different methods in list"
   ]
  },
  {
   "cell_type": "markdown",
   "id": "08e6ebeb",
   "metadata": {},
   "source": [
    "|Method|Syntax|\n",
    "|--|--|\n",
    "|insert|list_name.inser(index,element)|\n",
    "|append|list_name.append(element)|\n",
    "|extend|list_name.extend([list_of_elements])|\n",
    "|len|len(list_name)|\n",
    "|remove|list_name.remove(element)|\n",
    "|pop|list_name.pop(index)|\n",
    "|del|del list_name[index]|\n",
    "|clear|list_name.clear()|"
   ]
  },
  {
   "cell_type": "code",
   "execution_count": 23,
   "id": "88d841c3",
   "metadata": {},
   "outputs": [
    {
     "name": "stdout",
     "output_type": "stream",
     "text": [
      "['Pawan', 'Ram', 'Kalyan', 'Charan', 'Sai', 'Sree', 'Dharam', 'Tej']\n"
     ]
    }
   ],
   "source": [
    "lst = ['Pawan','Ram','Kalyan','Charan','Sai','Sree','Dharam','Tej']\n",
    "print(lst)"
   ]
  },
  {
   "cell_type": "code",
   "execution_count": 24,
   "id": "bb112b06",
   "metadata": {},
   "outputs": [
    {
     "name": "stdout",
     "output_type": "stream",
     "text": [
      "['Pawan', 'Ram', 'Manoj', 'Kalyan', 'Charan', 'Sai', 'Sree', 'Dharam', 'Tej']\n"
     ]
    }
   ],
   "source": [
    "lst.insert(2,'Manoj')\n",
    "print(lst)"
   ]
  },
  {
   "cell_type": "code",
   "execution_count": 25,
   "id": "5f7c4707",
   "metadata": {},
   "outputs": [
    {
     "name": "stdout",
     "output_type": "stream",
     "text": [
      "['Pawan', 'Ram', 'Manoj', 'Kalyan', 'Charan', 'Sai', 'Sree', 'Dharam', 'Tej', 'Karthik']\n"
     ]
    }
   ],
   "source": [
    "lst.append('Karthik')\n",
    "print(lst)"
   ]
  },
  {
   "cell_type": "code",
   "execution_count": 26,
   "id": "11b2d201",
   "metadata": {},
   "outputs": [
    {
     "name": "stdout",
     "output_type": "stream",
     "text": [
      "['Pawan', 'Ram', 'Manoj', 'Kalyan', 'Charan', 'Sai', 'Sree', 'Dharam', 'Tej', 'Karthik', 'Deep', 'Chaitanya', 'Akhil']\n"
     ]
    }
   ],
   "source": [
    "lst.extend(['Deep','Chaitanya','Akhil'])\n",
    "print(lst)"
   ]
  },
  {
   "cell_type": "code",
   "execution_count": 27,
   "id": "00fcf2e4",
   "metadata": {},
   "outputs": [
    {
     "data": {
      "text/plain": [
       "13"
      ]
     },
     "execution_count": 27,
     "metadata": {},
     "output_type": "execute_result"
    }
   ],
   "source": [
    "len(lst)"
   ]
  },
  {
   "cell_type": "code",
   "execution_count": 28,
   "id": "fb1274ac",
   "metadata": {},
   "outputs": [
    {
     "name": "stdout",
     "output_type": "stream",
     "text": [
      "['Pawan', 'Ram', 'Manoj', 'Kalyan', 'Charan', 'Sai', 'Dharam', 'Tej', 'Karthik', 'Deep', 'Chaitanya', 'Akhil']\n",
      "12\n"
     ]
    }
   ],
   "source": [
    "lst.remove('Sree')\n",
    "print(lst)\n",
    "print(len(lst))"
   ]
  },
  {
   "cell_type": "code",
   "execution_count": 29,
   "id": "52057e31",
   "metadata": {},
   "outputs": [
    {
     "name": "stdout",
     "output_type": "stream",
     "text": [
      "Akhil\n",
      "['Pawan', 'Ram', 'Manoj', 'Kalyan', 'Charan', 'Sai', 'Dharam', 'Tej', 'Karthik', 'Deep', 'Chaitanya']\n",
      "11\n"
     ]
    }
   ],
   "source": [
    "print(lst.pop()) # without spesifying index it'll remove last element\n",
    "print(lst)\n",
    "print(len(lst))"
   ]
  },
  {
   "cell_type": "code",
   "execution_count": 30,
   "id": "5e0c2fa2",
   "metadata": {},
   "outputs": [
    {
     "name": "stdout",
     "output_type": "stream",
     "text": [
      "Ram\n",
      "['Pawan', 'Manoj', 'Kalyan', 'Charan', 'Sai', 'Dharam', 'Tej', 'Karthik', 'Deep', 'Chaitanya']\n",
      "10\n"
     ]
    }
   ],
   "source": [
    "print(lst.pop(1))\n",
    "print(lst)\n",
    "print(len(lst))"
   ]
  },
  {
   "cell_type": "code",
   "execution_count": 31,
   "id": "0efd04dd",
   "metadata": {},
   "outputs": [
    {
     "name": "stdout",
     "output_type": "stream",
     "text": [
      "['Pawan', 'Manoj', 'Kalyan', 'Charan', 'Dharam', 'Tej', 'Karthik', 'Deep', 'Chaitanya']\n",
      "9\n"
     ]
    }
   ],
   "source": [
    "del lst[4]\n",
    "print(lst)\n",
    "print(len(lst))"
   ]
  },
  {
   "cell_type": "code",
   "execution_count": 32,
   "id": "e324a4ff",
   "metadata": {},
   "outputs": [
    {
     "name": "stdout",
     "output_type": "stream",
     "text": [
      "[]\n"
     ]
    }
   ],
   "source": [
    "lst.clear()\n",
    "print(lst)"
   ]
  },
  {
   "cell_type": "markdown",
   "id": "50bea898",
   "metadata": {},
   "source": [
    "## Sets"
   ]
  },
  {
   "cell_type": "markdown",
   "id": "2999aa9e",
   "metadata": {},
   "source": [
    "SET : Sets are also like lists used to store multiple items in a single variable\n",
    "\n",
    "1. Sets are written in curly brackets {}.\n",
    "2. Set items are unchangeable, unordered and unindexed.\n",
    "3. Set items can appear in a different order every time you use them, and cannot be referred to by index or key(i.e..unordered).\n",
    "4. We can't change the set items once they are created(i.e..unchangeable).\n",
    "5. We can't change but we can remove and add the items.\n",
    "6. Duplicates are not allowed."
   ]
  },
  {
   "cell_type": "code",
   "execution_count": 33,
   "id": "6d6a8318",
   "metadata": {},
   "outputs": [
    {
     "name": "stdout",
     "output_type": "stream",
     "text": [
      "{'apple', 'orange', 'banana'}\n"
     ]
    }
   ],
   "source": [
    "myset = {'apple','orange','banana'}\n",
    "print(myset)"
   ]
  },
  {
   "cell_type": "code",
   "execution_count": 34,
   "id": "253b60c5",
   "metadata": {},
   "outputs": [
    {
     "name": "stdout",
     "output_type": "stream",
     "text": [
      "{'apple', 'orange', 'banana'}\n"
     ]
    }
   ],
   "source": [
    "# duplicates are not allowed \n",
    "myset = {'apple','orange','banana','orange'}\n",
    "print(myset)"
   ]
  },
  {
   "cell_type": "markdown",
   "id": "b4bf5e8e",
   "metadata": {},
   "source": [
    "#### length of the set can be found by len(set_name)"
   ]
  },
  {
   "cell_type": "code",
   "execution_count": 35,
   "id": "2cc146c8",
   "metadata": {},
   "outputs": [
    {
     "data": {
      "text/plain": [
       "3"
      ]
     },
     "execution_count": 35,
     "metadata": {},
     "output_type": "execute_result"
    }
   ],
   "source": [
    "len(myset)"
   ]
  },
  {
   "cell_type": "code",
   "execution_count": 36,
   "id": "cb8fdfcd",
   "metadata": {},
   "outputs": [
    {
     "data": {
      "text/plain": [
       "7"
      ]
     },
     "execution_count": 36,
     "metadata": {},
     "output_type": "execute_result"
    }
   ],
   "source": [
    "len({2,3,4,5,6,7,2,1,3,4}) #not counted repeated elements, since it doesn't allows duplicates"
   ]
  },
  {
   "cell_type": "markdown",
   "id": "93b0cd7a",
   "metadata": {},
   "source": [
    "#### set elements can be of any datatypes"
   ]
  },
  {
   "cell_type": "code",
   "execution_count": 37,
   "id": "c7ebf3dc",
   "metadata": {},
   "outputs": [
    {
     "name": "stdout",
     "output_type": "stream",
     "text": [
      "{'Sravya', 90.23, 3, True}\n"
     ]
    }
   ],
   "source": [
    "a = {True,3,'Sravya',90.23}\n",
    "print(a)"
   ]
  },
  {
   "cell_type": "code",
   "execution_count": 38,
   "id": "b18dcdd6",
   "metadata": {},
   "outputs": [
    {
     "name": "stdout",
     "output_type": "stream",
     "text": [
      "<class 'str'>\n",
      "<class 'float'>\n",
      "<class 'int'>\n",
      "<class 'bool'>\n"
     ]
    },
    {
     "data": {
      "text/plain": [
       "set"
      ]
     },
     "execution_count": 38,
     "metadata": {},
     "output_type": "execute_result"
    }
   ],
   "source": [
    "for i in a:\n",
    "    print(type(i))\n",
    "type(a)"
   ]
  },
  {
   "cell_type": "markdown",
   "id": "1e7a5664",
   "metadata": {},
   "source": [
    "#### We can also create new set using constructor set()"
   ]
  },
  {
   "cell_type": "code",
   "execution_count": 39,
   "id": "0273f627",
   "metadata": {},
   "outputs": [
    {
     "name": "stdout",
     "output_type": "stream",
     "text": [
      "{'Ram', 'Sai', 'Kalyan', 'Pawan'}\n"
     ]
    }
   ],
   "source": [
    "b = set(('Sai','Pawan','Kalyan','Ram'))\n",
    "print(b)"
   ]
  },
  {
   "cell_type": "markdown",
   "id": "55283e54",
   "metadata": {},
   "source": [
    "#### Using \"in\" and \"not in\" operators"
   ]
  },
  {
   "cell_type": "code",
   "execution_count": 40,
   "id": "df9fc4d4",
   "metadata": {},
   "outputs": [
    {
     "name": "stdout",
     "output_type": "stream",
     "text": [
      "True\n"
     ]
    }
   ],
   "source": [
    "print('Ram' in b)"
   ]
  },
  {
   "cell_type": "code",
   "execution_count": 41,
   "id": "85f9d7e0",
   "metadata": {},
   "outputs": [
    {
     "data": {
      "text/plain": [
       "True"
      ]
     },
     "execution_count": 41,
     "metadata": {},
     "output_type": "execute_result"
    }
   ],
   "source": [
    "'orange' in myset"
   ]
  },
  {
   "cell_type": "code",
   "execution_count": 42,
   "id": "0282328c",
   "metadata": {},
   "outputs": [
    {
     "name": "stdout",
     "output_type": "stream",
     "text": [
      "apple\n",
      "orange\n",
      "banana\n"
     ]
    }
   ],
   "source": [
    "for i in myset:\n",
    "    print(i)"
   ]
  },
  {
   "cell_type": "markdown",
   "id": "d4e63e82",
   "metadata": {},
   "source": [
    "### Different methods in sets"
   ]
  },
  {
   "cell_type": "markdown",
   "id": "7da41c0d",
   "metadata": {},
   "source": [
    "|Method|Syntax|\n",
    "|--|--|\n",
    "|add()|set_name.add(element)|\n",
    "|update()|set_name.update(another_iterable_obj)|\n",
    "|remove()|set_name.remove(element)|\n",
    "|discard()|set_name.discard(element)| \n",
    "|pop()|set_name.pop()|\n",
    "|del|del set_name|\n",
    "|union()|set1.union(set2)|\n",
    "|intersection()|set1.intersection(set2)|\n",
    "|intersection_update()|set1.intersection_update(set2)|\n",
    "|symmetric_difference()|set1.symmetric_difference(Set2)|"
   ]
  },
  {
   "cell_type": "code",
   "execution_count": 43,
   "id": "29e50c63",
   "metadata": {},
   "outputs": [
    {
     "name": "stdout",
     "output_type": "stream",
     "text": [
      "{1, 3, 5, 7, 9, 11} {2, 4, 6, 8, 10, 11, 13}\n"
     ]
    },
    {
     "data": {
      "text/plain": [
       "{1, 3, 4, 5, 7, 9, 11}"
      ]
     },
     "execution_count": 43,
     "metadata": {},
     "output_type": "execute_result"
    }
   ],
   "source": [
    "set1 = {1,3,5,7,9,11}\n",
    "set2 = {2,4,6,8,10,11,13}\n",
    "print(set1,set2)\n",
    "set1.add(4)\n",
    "set1"
   ]
  },
  {
   "cell_type": "code",
   "execution_count": 44,
   "id": "e8e0e3f7",
   "metadata": {},
   "outputs": [
    {
     "data": {
      "text/plain": [
       "{1, 2, 3, 4, 5, 6, 7, 8, 9, 10, 11, 13}"
      ]
     },
     "execution_count": 44,
     "metadata": {},
     "output_type": "execute_result"
    }
   ],
   "source": [
    "set1.update(set2)\n",
    "set1"
   ]
  },
  {
   "cell_type": "code",
   "execution_count": 45,
   "id": "aef15695",
   "metadata": {},
   "outputs": [
    {
     "data": {
      "text/plain": [
       "{1, 10, 11, 13, 2, 3, 4, 5, 6, 7, 8, 9, 'Kalyan', 'Sravya'}"
      ]
     },
     "execution_count": 45,
     "metadata": {},
     "output_type": "execute_result"
    }
   ],
   "source": [
    "l = ['Sravya','Kalyan']\n",
    "set1.update(l)\n",
    "set1"
   ]
  },
  {
   "cell_type": "code",
   "execution_count": 46,
   "id": "46b365e5",
   "metadata": {},
   "outputs": [
    {
     "data": {
      "text/plain": [
       "{1, 10, 11, 13, 2, 3, 4, 5, 6, 7, 8, 9, 'Kalyan'}"
      ]
     },
     "execution_count": 46,
     "metadata": {},
     "output_type": "execute_result"
    }
   ],
   "source": [
    "set1.remove('Sravya')\n",
    "set1"
   ]
  },
  {
   "cell_type": "code",
   "execution_count": 47,
   "id": "408dac30",
   "metadata": {},
   "outputs": [
    {
     "ename": "KeyError",
     "evalue": "'Sai'",
     "output_type": "error",
     "traceback": [
      "\u001b[1;31m---------------------------------------------------------------------------\u001b[0m",
      "\u001b[1;31mKeyError\u001b[0m                                  Traceback (most recent call last)",
      "Input \u001b[1;32mIn [47]\u001b[0m, in \u001b[0;36m<cell line: 1>\u001b[1;34m()\u001b[0m\n\u001b[1;32m----> 1\u001b[0m \u001b[43mset1\u001b[49m\u001b[38;5;241;43m.\u001b[39;49m\u001b[43mremove\u001b[49m\u001b[43m(\u001b[49m\u001b[38;5;124;43m'\u001b[39;49m\u001b[38;5;124;43mSai\u001b[39;49m\u001b[38;5;124;43m'\u001b[39;49m\u001b[43m)\u001b[49m\n",
      "\u001b[1;31mKeyError\u001b[0m: 'Sai'"
     ]
    }
   ],
   "source": [
    "set1.remove('Sai') # if the element is not there in the set it gives error"
   ]
  },
  {
   "cell_type": "code",
   "execution_count": 48,
   "id": "176154ec",
   "metadata": {},
   "outputs": [],
   "source": [
    "set1.discard('Sai') # discard doesn't shows any error if the element is not their in the set"
   ]
  },
  {
   "cell_type": "code",
   "execution_count": 49,
   "id": "2ebe96b3",
   "metadata": {},
   "outputs": [
    {
     "data": {
      "text/plain": [
       "1"
      ]
     },
     "execution_count": 49,
     "metadata": {},
     "output_type": "execute_result"
    }
   ],
   "source": [
    "set1.pop()"
   ]
  },
  {
   "cell_type": "code",
   "execution_count": 50,
   "id": "87823d43",
   "metadata": {},
   "outputs": [
    {
     "name": "stdout",
     "output_type": "stream",
     "text": [
      "{2, 3, 4, 5, 6, 7, 8, 9, 10, 11, 'Kalyan', 13}\n",
      "set()\n"
     ]
    }
   ],
   "source": [
    "print(set1)\n",
    "set1.clear()\n",
    "print(set1)"
   ]
  },
  {
   "cell_type": "code",
   "execution_count": 51,
   "id": "c466df84",
   "metadata": {},
   "outputs": [
    {
     "name": "stdout",
     "output_type": "stream",
     "text": [
      "{2, 4, 6, 8, 10, 11, 13}\n"
     ]
    },
    {
     "ename": "NameError",
     "evalue": "name 'set2' is not defined",
     "output_type": "error",
     "traceback": [
      "\u001b[1;31m---------------------------------------------------------------------------\u001b[0m",
      "\u001b[1;31mNameError\u001b[0m                                 Traceback (most recent call last)",
      "Input \u001b[1;32mIn [51]\u001b[0m, in \u001b[0;36m<cell line: 3>\u001b[1;34m()\u001b[0m\n\u001b[0;32m      1\u001b[0m \u001b[38;5;28mprint\u001b[39m(set2)\n\u001b[0;32m      2\u001b[0m \u001b[38;5;28;01mdel\u001b[39;00m set2\n\u001b[1;32m----> 3\u001b[0m \u001b[38;5;28mprint\u001b[39m(\u001b[43mset2\u001b[49m)\n",
      "\u001b[1;31mNameError\u001b[0m: name 'set2' is not defined"
     ]
    }
   ],
   "source": [
    "print(set2)\n",
    "del set2\n",
    "print(set2) # as here we have used del keyword it deletes set completely which gives error not defined while printing..."
   ]
  },
  {
   "cell_type": "code",
   "execution_count": 52,
   "id": "01b2a833",
   "metadata": {},
   "outputs": [
    {
     "name": "stdout",
     "output_type": "stream",
     "text": [
      "{1, 3, 5, 7, 9, 11} {2, 4, 6, 8, 10, 11, 13}\n",
      "{1, 2, 3, 4, 5, 6, 7, 8, 9, 10, 11, 13}\n"
     ]
    }
   ],
   "source": [
    "set1 = {1,3,5,7,9,11}\n",
    "set2 = {2,4,6,8,10,11,13}\n",
    "print(set1,set2)\n",
    "print(set1.union(set2))"
   ]
  },
  {
   "cell_type": "code",
   "execution_count": 53,
   "id": "bd1a6709",
   "metadata": {},
   "outputs": [
    {
     "name": "stdout",
     "output_type": "stream",
     "text": [
      "{1, 3, 5, 7, 9, 11}\n"
     ]
    },
    {
     "data": {
      "text/plain": [
       "{1, 2, 3, 4, 5, 6, 7, 8, 9, 10, 11, 13}"
      ]
     },
     "execution_count": 53,
     "metadata": {},
     "output_type": "execute_result"
    }
   ],
   "source": [
    "print(set1)\n",
    "set1.update(set2) # in this union operation is updated into set1 \n",
    "set1"
   ]
  },
  {
   "cell_type": "code",
   "execution_count": 54,
   "id": "070211c8",
   "metadata": {},
   "outputs": [
    {
     "name": "stdout",
     "output_type": "stream",
     "text": [
      "{1, 3, 5, 7, 9, 11} {2, 4, 6, 8, 10, 11, 13}\n",
      "{11}\n"
     ]
    }
   ],
   "source": [
    "set1 = {1,3,5,7,9,11}\n",
    "set2 = {2,4,6,8,10,11,13}\n",
    "print(set1,set2)\n",
    "print(set1.intersection(set2))"
   ]
  },
  {
   "cell_type": "code",
   "execution_count": 55,
   "id": "d89e430f",
   "metadata": {},
   "outputs": [
    {
     "name": "stdout",
     "output_type": "stream",
     "text": [
      "{1, 3, 5, 7, 9, 11}\n"
     ]
    },
    {
     "data": {
      "text/plain": [
       "{11}"
      ]
     },
     "execution_count": 55,
     "metadata": {},
     "output_type": "execute_result"
    }
   ],
   "source": [
    "print(set1)\n",
    "set1.intersection_update(set2)\n",
    "set1"
   ]
  },
  {
   "cell_type": "code",
   "execution_count": 56,
   "id": "0589e8e7",
   "metadata": {},
   "outputs": [
    {
     "data": {
      "text/plain": [
       "{1, 2, 3, 6}"
      ]
     },
     "execution_count": 56,
     "metadata": {},
     "output_type": "execute_result"
    }
   ],
   "source": [
    "set1 = {1,2,3,4,5,6}\n",
    "set2 = {4,5,7,8,9}\n",
    "set1-set2"
   ]
  },
  {
   "cell_type": "code",
   "execution_count": 57,
   "id": "f69728d3",
   "metadata": {},
   "outputs": [
    {
     "data": {
      "text/plain": [
       "{7, 8, 9}"
      ]
     },
     "execution_count": 57,
     "metadata": {},
     "output_type": "execute_result"
    }
   ],
   "source": [
    "set1 = {1,2,3,4,5,6}\n",
    "set2 = {4,5,7,8,9}\n",
    "set2-set1"
   ]
  },
  {
   "cell_type": "code",
   "execution_count": 58,
   "id": "e665b238",
   "metadata": {},
   "outputs": [
    {
     "data": {
      "text/plain": [
       "{1, 2, 3, 6, 7, 8, 9}"
      ]
     },
     "execution_count": 58,
     "metadata": {},
     "output_type": "execute_result"
    }
   ],
   "source": [
    "set1.symmetric_difference(set2)"
   ]
  }
 ],
 "metadata": {
  "kernelspec": {
   "display_name": "Python 3 (ipykernel)",
   "language": "python",
   "name": "python3"
  },
  "language_info": {
   "codemirror_mode": {
    "name": "ipython",
    "version": 3
   },
   "file_extension": ".py",
   "mimetype": "text/x-python",
   "name": "python",
   "nbconvert_exporter": "python",
   "pygments_lexer": "ipython3",
   "version": "3.9.12"
  }
 },
 "nbformat": 4,
 "nbformat_minor": 5
}
